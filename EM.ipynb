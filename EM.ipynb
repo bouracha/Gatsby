{
 "cells": [
  {
   "cell_type": "code",
   "execution_count": 429,
   "metadata": {},
   "outputs": [],
   "source": [
    "import numpy as np\n",
    "import math\n",
    "from matplotlib import pyplot as plt\n",
    "eps = eps = 10e-30"
   ]
  },
  {
   "cell_type": "code",
   "execution_count": 125,
   "metadata": {},
   "outputs": [],
   "source": [
    "def plot_k_distributions(P_ml, K):\n",
    "    for i in range(0,K):\n",
    "        y = P_ml[:,i]\n",
    "        plt.figure()\n",
    "        plt.imshow(np.reshape(y, (8,8)),\n",
    "                   interpolation=\"None\",\n",
    "                   cmap='gray')\n",
    "        plt.axis('off')"
   ]
  },
  {
   "cell_type": "code",
   "execution_count": 420,
   "metadata": {},
   "outputs": [],
   "source": [
    "def mix_multi_bern(P, X):\n",
    "    \"P: KxDxN matrix of probabilities for K distributions and D variables\"\n",
    "    \"x: vector of D variables\"\n",
    "\n",
    "    term1 = np.multiply(X, np.log(np.maximum(P,eps))) \n",
    "    term2 = np.multiply(1-X, np.log(np.maximum((1-P),eps)))  \n",
    "    bern = term1 + term2\n",
    "    \n",
    "    return np.e**bern"
   ]
  },
  {
   "cell_type": "code",
   "execution_count": 411,
   "metadata": {},
   "outputs": [],
   "source": [
    "def responsibility(pi, P, X):\n",
    "\n",
    "    \"pi: vector of length Kx1\"\n",
    "    \"P: KxDxN matrix of probabilities\"\n",
    "    \"x: data, DxN\"\n",
    "    \"returns matrix of responsibilities: NxK\"\n",
    "\n",
    "    term1 = np.log(np.maximum(pi, eps))\n",
    "    \n",
    "    term2 = np.log(np.maximum(np.prod(mix_multi_bern(P, X), axis=1), eps))\n",
    "    \n",
    "    term3 = log_joint(X, P, pi)\n",
    "    \n",
    "    log_r = term1 + term2 - term3\n",
    "    \n",
    "    r = np.e**log_r\n",
    "    \n",
    "    return r"
   ]
  },
  {
   "cell_type": "code",
   "execution_count": 402,
   "metadata": {},
   "outputs": [],
   "source": [
    "def log_joint(X, P, pi):\n",
    "    \n",
    "    bern = mix_multi_bern(P, X)\n",
    "    prod_bern = np.e**(np.sum(np.log(bern), axis=1))\n",
    "    joint = np.sum(np.multiply(pi, prod_bern), axis=0)\n",
    "    \n",
    "    return np.log(joint)\n",
    "    "
   ]
  },
  {
   "cell_type": "code",
   "execution_count": 403,
   "metadata": {},
   "outputs": [],
   "source": [
    "def E_step(pi, P, x):\n",
    "    return responsibility(pi, P, x)"
   ]
  },
  {
   "cell_type": "code",
   "execution_count": 404,
   "metadata": {},
   "outputs": [],
   "source": [
    "def M_step(r, P, x):\n",
    "    \"r: responsibilities NxK\"\n",
    "    \"pi: vector of length Kx1\"\n",
    "    \"P: KxDxN matrix of probabilities\"\n",
    "    \"x: data, DxN\"\n",
    "    \"returns maximum likelihood P and pi of dimensions: KxD, Kx1\"\n",
    "\n",
    "    numerator_p = np.dot(x, r.transpose())\n",
    "    \n",
    "    denominator_p = np.sum(r, axis=1)\n",
    "    \n",
    "    P_ML = numerator_p/denominator_p\n",
    "    \n",
    "    pi_ML = np.sum(r, axis=1)\n",
    "    \n",
    "    return P_ML, pi_ML"
   ]
  },
  {
   "cell_type": "code",
   "execution_count": 405,
   "metadata": {
    "scrolled": true
   },
   "outputs": [],
   "source": [
    "def EM(K, X, iterations):\n",
    "    log_probs = []\n",
    "    \n",
    "    N, D = X.shape\n",
    "    X = X.transpose() #This is the order which we use in our vectorised implementation\n",
    "    \n",
    "    np.random.seed(2)\n",
    "    P = np.random.rand(K,D) #np.full((K,D), 0.6)\n",
    "    P = np.repeat(P[:, :, np.newaxis], N, axis=2)\n",
    "    pi = np.random.rand(K,1)\n",
    "    pi = pi/(np.sum(pi))\n",
    "    \n",
    "    assert(pi.shape == (K, 1))\n",
    "    assert(X.shape == (D, N))\n",
    "    assert(P.shape == (K, D, N))\n",
    "    \n",
    "    sum_log_joint = np.sum(log_joint(X, P, pi))\n",
    "    print \"Initial log-joint-probability: \", sum_log_joint\n",
    "    log_probs.append(sum_log_joint)\n",
    "    \n",
    "    for i in range(0, iterations):\n",
    "        \n",
    "        # E STEP\n",
    "        r = E_step(pi, P, X)\n",
    "        # M STEP\n",
    "        P_ml, pi_ml = M_step(r, P, X)\n",
    "        \n",
    "        #P_ml is DxK need to broadcast this to KxDxN for next iteration of vectorised implementation\n",
    "        P = P_ml.transpose()\n",
    "        P = np.repeat(P[:, :, np.newaxis], N, axis=2)\n",
    "    \n",
    "        #Store the values of the log_joint at the end of each iteration\n",
    "        sum_log_joint = np.sum(log_joint(X, P, pi))\n",
    "        log_probs.append(sum_log_joint)\n",
    "    \n",
    "    print \"Final log-joint-probability: \", sum_log_joint\n",
    "\n",
    "    for i in range(0,8):\n",
    "        print \"image: \", i+1\n",
    "        print P_ml[i]\n",
    "        print r.transpose()[i]\n",
    "        print np.sum(r.transpose()[i])\n",
    "    return P_ml, pi_ml, log_probs"
   ]
  },
  {
   "cell_type": "code",
   "execution_count": 430,
   "metadata": {},
   "outputs": [
    {
     "name": "stdout",
     "output_type": "stream",
     "text": [
      "Initial log-joint-probability:  -5506.344846993844\n",
      "Final log-joint-probability:  -2846.645947952698\n",
      "image:  1\n",
      "[1.57089252e-10 1.41639957e-10 6.66666668e-01 8.10659780e-02]\n",
      "[9.99999306e-01 1.49845206e-20 3.76132805e-20 6.93779579e-07]\n",
      "0.9999999999999983\n",
      "image:  2\n",
      "[0.03125471 0.125      0.93333333 0.10808972]\n",
      "[3.95903726e-07 1.62150146e-15 4.07019957e-15 9.99999604e-01]\n",
      "1.0000000000000133\n",
      "image:  3\n",
      "[0.09376723 0.4375     0.66666667 0.2432005 ]\n",
      "[9.99999711e-01 1.69775368e-17 4.26160350e-17 2.89338881e-07]\n",
      "0.9999999999999947\n",
      "image:  4\n",
      "[0.31256429 0.5625     0.8        0.32426654]\n",
      "[5.99141022e-21 1.00000000e+00 6.78157076e-21 1.46470534e-20]\n",
      "1.0000000000000036\n",
      "image:  5\n",
      "[0.71888672 0.875      0.73333334 0.43236757]\n",
      "[1.12967912e-18 5.09398877e-19 9.99999967e-01 3.30820314e-08]\n",
      "1.0000000000000078\n",
      "image:  6\n",
      "[0.84372749 0.9375     0.8        0.62168246]\n",
      "[9.67411020e-17 4.36228376e-17 1.09499534e-16 1.00000000e+00]\n",
      "1.0000000000000038\n",
      "image:  7\n",
      "[0.46864662 0.875      0.66666667 0.81083646]\n",
      "[9.16746500e-10 4.13382553e-10 1.03764907e-09 1.00000000e+00]\n",
      "1.000000002367764\n",
      "image:  8\n",
      "[0.09376327 0.75       0.6        0.7025778 ]\n",
      "[9.93567383e-01 1.48453433e-18 3.72639257e-18 6.43261750e-03]\n",
      "0.9999999999999934\n"
     ]
    }
   ],
   "source": [
    "X = np.loadtxt('binarydigits.txt')\n",
    "P, pi, log_probs_4 = EM(4, X, 6)"
   ]
  },
  {
   "cell_type": "code",
   "execution_count": 424,
   "metadata": {},
   "outputs": [
    {
     "data": {
      "image/png": "[encoded data removed]",
      "text/plain": [
       "<Figure size 432x288 with 1 Axes>"
      ]
     },
     "metadata": {
      "needs_background": "light"
     },
     "output_type": "display_data"
    },
    {
     "data": {
      "image/png": "[encoded data removed]",
      "text/plain": [
       "<Figure size 432x288 with 1 Axes>"
      ]
     },
     "metadata": {
      "needs_background": "light"
     },
     "output_type": "display_data"
    },
    {
     "data": {
      "image/png": "[encoded data removed]",
      "text/plain": [
       "<Figure size 432x288 with 1 Axes>"
      ]
     },
     "metadata": {
      "needs_background": "light"
     },
     "output_type": "display_data"
    },
    {
     "data": {
      "image/png": "[encoded data removed]",
      "text/plain": [
       "<Figure size 432x288 with 1 Axes>"
      ]
     },
     "metadata": {
      "needs_background": "light"
     },
     "output_type": "display_data"
    }
   ],
   "source": [
    "plot_k_distributions(P, 4)"
   ]
  },
  {
   "cell_type": "code",
   "execution_count": 409,
   "metadata": {},
   "outputs": [
    {
     "data": {
      "image/png": "[encoded data removed]",
      "text/plain": [
       "<Figure size 432x288 with 1 Axes>"
      ]
     },
     "metadata": {
      "needs_background": "light"
     },
     "output_type": "display_data"
    }
   ],
   "source": [
    "plt.plot(log_probs_2, 'b', label='K=2')\n",
    "plt.plot(log_probs_3, 'r', label='K=3')\n",
    "plt.plot(log_probs_4, 'g', label='K=4')\n",
    "plt.plot(log_probs_7, 'm', label='K=7')\n",
    "plt.plot(log_probs_10, 'y', label='K=10')\n",
    "plt.ylabel('Log-prob')\n",
    "plt.xlabel('iterations')\n",
    "plt.title(\"Iterations\")\n",
    "plt.legend()\n",
    "plt.show()"
   ]
  },
  {
   "cell_type": "code",
   "execution_count": 387,
   "metadata": {},
   "outputs": [
    {
     "data": {
      "image/png": "[encoded data removed]",
      "text/plain": [
       "<Figure size 432x288 with 1 Axes>"
      ]
     },
     "metadata": {
      "needs_background": "light"
     },
     "output_type": "display_data"
    }
   ],
   "source": [
    "plt.plot(log_probs_2, 'b', label='K=2')\n",
    "plt.plot(log_probs_3, 'r', label='K=3')\n",
    "plt.plot(log_probs_4, 'g', label='K=4')\n",
    "plt.plot(log_probs_7, 'm', label='K=7')\n",
    "plt.plot(log_probs_10, 'y', label='K=10')\n",
    "plt.plot(log_probs_100, 'y', label='K=100')\n",
    "plt.plot(log_probs_1000, 'y', label='K=1000')\n",
    "plt.ylabel('Log-prob')\n",
    "plt.xlabel('iterations')\n",
    "plt.title(\"Iterations\")\n",
    "plt.legend()\n",
    "plt.show()"
   ]
  },
  {
   "cell_type": "code",
   "execution_count": 256,
   "metadata": {},
   "outputs": [
    {
     "data": {
      "image/png": "[encoded data removed]",
      "text/plain": [
       "<Figure size 360x360 with 100 Axes>"
      ]
     },
     "metadata": {
      "needs_background": "light"
     },
     "output_type": "display_data"
    }
   ],
   "source": [
    "# this is how you display one image using matplotlib,\n",
    "# e.g. the 4th image:\n",
    "\n",
    "Y = np.loadtxt('binarydigits.txt')\n",
    "N, D = Y.shape\n",
    "\n",
    "plt.figure(figsize=(5, 5))\n",
    "for n in range(N):\n",
    "    plt.subplot(10, 10, n+1)\n",
    "    plt.imshow(np.reshape(X[n, :], (8,8)),\n",
    "            interpolation=\"None\",\n",
    "            cmap='gray')\n",
    "    plt.axis('off')\n",
    "       \n",
    "plt.show()"
   ]
  },
  {
   "cell_type": "code",
   "execution_count": null,
   "metadata": {},
   "outputs": [],
   "source": []
  }
 ],
 "metadata": {
  "kernelspec": {
   "display_name": "Python 2",
   "language": "python",
   "name": "python2"
  },
  "language_info": {
   "codemirror_mode": {
    "name": "ipython",
    "version": 2
   },
   "file_extension": ".py",
   "mimetype": "text/x-python",
   "name": "python",
   "nbconvert_exporter": "python",
   "pygments_lexer": "ipython2",
   "version": "2.7.10"
  }
 },
 "nbformat": 4,
 "nbformat_minor": 2
}
